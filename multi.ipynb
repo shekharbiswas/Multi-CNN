{
 "cells": [
  {
   "cell_type": "code",
   "execution_count": 3,
   "metadata": {},
   "outputs": [],
   "source": [
    "import numpy as np\n",
    "import pandas as pd\n",
    "from sklearn.model_selection import train_test_split\n",
    "from sklearn.metrics import classification_report\n",
    "\n",
    "from IPython.display import SVG\n",
    "\n",
    "from sklearn.metrics import r2_score\n",
    "\n",
    "\n",
    "#from keras.utils.vis_utils import model_to_dot\n",
    "#from keras.utils import plot_model\n",
    "import seaborn as sns\n",
    "import matplotlib.pyplot as plt\n",
    "%matplotlib inline\n",
    "import plotly.graph_objs as go\n",
    "import plotly.figure_factory as ff\n",
    "from plotly import tools\n",
    "from plotly.offline import download_plotlyjs, init_notebook_mode, plot, iplot\n",
    "\n",
    "\n",
    "from IPython.display import Image\n",
    "import glob\n",
    "import cv2\n",
    "import random\n",
    "\n",
    "\n",
    "from keras.models import Sequential\n",
    "from keras.layers import Conv2D,MaxPooling2D,Dense,Flatten,Dropout\n",
    "from keras.optimizers import Adam\n",
    "import tensorflow\n",
    "\n",
    "import tensorflow as tf\n",
    "from tensorflow.keras.models import Model\n",
    "from tensorflow.keras.layers import Input, Conv2D, MaxPooling2D, Flatten, Dense, Dropout\n",
    "\n",
    "input_shape = (128, 128, 3)  # Example input shape for an RGB image\n",
    "inputs = Input(shape=input_shape)\n",
    "\n",
    "\n",
    "df = pd.read_csv('df.csv', index_col= 0)"
   ]
  },
  {
   "cell_type": "code",
   "execution_count": 6,
   "metadata": {},
   "outputs": [],
   "source": [
    "image_rows = 128\n",
    "image_cols = 128\n",
    "batch_size = 4096\n",
    "\n",
    "X   = df.drop(['Age', 'Gender'], axis = 1)\n",
    "y = df['Gender']\n",
    "X_train, X_test, y_class_train, y_class_test = train_test_split(\n",
    "    X, y, test_size=0.25, random_state=42)\n",
    "\n",
    "y = df['Age']\n",
    "X_train, X_test, y_reg_train, y_reg_test = train_test_split(\n",
    "    X, y, test_size=0.25, random_state=42)\n",
    "\n",
    "\n",
    "\n",
    "image_shape = (image_rows,image_cols,3)\n",
    "train_data = np.array(X_train, dtype = 'float32')\n",
    "test_data = np.array(X_test, dtype='float32')\n",
    "\n",
    "train_data = train_data.reshape(train_data.shape[0],*image_shape)\n",
    "test_data = test_data.reshape(test_data.shape[0],*image_shape)\n",
    "\n",
    "x_train = train_data/255\n",
    "x_test= test_data/255"
   ]
  },
  {
   "cell_type": "code",
   "execution_count": 7,
   "metadata": {},
   "outputs": [],
   "source": [
    "# Shared convolutional base\n",
    "x = Conv2D(32, (3, 3), activation='relu')(inputs)\n",
    "x = MaxPooling2D((2, 2))(x)\n",
    "x = Conv2D(64, (3, 3), activation='relu')(x)\n",
    "x = MaxPooling2D((2, 2))(x)\n",
    "x = Conv2D(128, (3, 3), activation='relu')(x)\n",
    "x = MaxPooling2D((2, 2))(x)\n",
    "x = Flatten()(x)\n",
    "x = Dense(128, activation='relu')(x)\n",
    "x = Dropout(0.5)(x)"
   ]
  },
  {
   "cell_type": "code",
   "execution_count": 8,
   "metadata": {},
   "outputs": [],
   "source": [
    "# Classification & regression output\n",
    "classification_output = Dense(1, activation='sigmoid', name='classification_output')(x)\n",
    "regression_output = Dense(1, name='regression_output')(x)\n",
    "\n",
    "model = Model(inputs=inputs, outputs=[classification_output, regression_output])"
   ]
  },
  {
   "cell_type": "code",
   "execution_count": 9,
   "metadata": {},
   "outputs": [],
   "source": [
    "model.compile(optimizer='adam', \n",
    "              loss={'classification_output': 'binary_crossentropy', 'regression_output': 'mae'},\n",
    "              metrics={'classification_output': 'accuracy', 'regression_output': 'mae'})"
   ]
  },
  {
   "cell_type": "code",
   "execution_count": 10,
   "metadata": {},
   "outputs": [
    {
     "name": "stdout",
     "output_type": "stream",
     "text": [
      "Epoch 1/40\n",
      "\u001b[1m4/4\u001b[0m \u001b[32m━━━━━━━━━━━━━━━━━━━━\u001b[0m\u001b[37m\u001b[0m \u001b[1m4s\u001b[0m 295ms/step - classification_output_accuracy: 0.5271 - loss: 42.8289 - regression_output_mae: 41.9847 - val_classification_output_accuracy: 0.4286 - val_loss: 25.9376 - val_regression_output_mae: 25.1995\n",
      "Epoch 2/40\n",
      "\u001b[1m4/4\u001b[0m \u001b[32m━━━━━━━━━━━━━━━━━━━━\u001b[0m\u001b[37m\u001b[0m \u001b[1m1s\u001b[0m 234ms/step - classification_output_accuracy: 0.5097 - loss: 27.5689 - regression_output_mae: 24.8967 - val_classification_output_accuracy: 0.4286 - val_loss: 26.5098 - val_regression_output_mae: 25.1470\n",
      "Epoch 3/40\n",
      "\u001b[1m4/4\u001b[0m \u001b[32m━━━━━━━━━━━━━━━━━━━━\u001b[0m\u001b[37m\u001b[0m \u001b[1m1s\u001b[0m 260ms/step - classification_output_accuracy: 0.4992 - loss: 27.7356 - regression_output_mae: 24.8664 - val_classification_output_accuracy: 0.4286 - val_loss: 26.1940 - val_regression_output_mae: 25.1765\n",
      "Epoch 4/40\n",
      "\u001b[1m4/4\u001b[0m \u001b[32m━━━━━━━━━━━━━━━━━━━━\u001b[0m\u001b[37m\u001b[0m \u001b[1m1s\u001b[0m 239ms/step - classification_output_accuracy: 0.6526 - loss: 26.2228 - regression_output_mae: 24.4991 - val_classification_output_accuracy: 0.5714 - val_loss: 26.3914 - val_regression_output_mae: 25.1594\n",
      "Epoch 5/40\n",
      "\u001b[1m4/4\u001b[0m \u001b[32m━━━━━━━━━━━━━━━━━━━━\u001b[0m\u001b[37m\u001b[0m \u001b[1m1s\u001b[0m 222ms/step - classification_output_accuracy: 0.4888 - loss: 28.8678 - regression_output_mae: 26.1367 - val_classification_output_accuracy: 0.4286 - val_loss: 26.5384 - val_regression_output_mae: 24.9645\n",
      "Epoch 6/40\n",
      "\u001b[1m4/4\u001b[0m \u001b[32m━━━━━━━━━━━━━━━━━━━━\u001b[0m\u001b[37m\u001b[0m \u001b[1m1s\u001b[0m 218ms/step - classification_output_accuracy: 0.5507 - loss: 28.5709 - regression_output_mae: 26.4997 - val_classification_output_accuracy: 0.6071 - val_loss: 25.8683 - val_regression_output_mae: 25.1937\n",
      "Epoch 7/40\n",
      "\u001b[1m4/4\u001b[0m \u001b[32m━━━━━━━━━━━━━━━━━━━━\u001b[0m\u001b[37m\u001b[0m \u001b[1m1s\u001b[0m 221ms/step - classification_output_accuracy: 0.4934 - loss: 27.9732 - regression_output_mae: 25.4998 - val_classification_output_accuracy: 0.5714 - val_loss: 25.7011 - val_regression_output_mae: 24.7470\n",
      "Epoch 8/40\n",
      "\u001b[1m4/4\u001b[0m \u001b[32m━━━━━━━━━━━━━━━━━━━━\u001b[0m\u001b[37m\u001b[0m \u001b[1m1s\u001b[0m 212ms/step - classification_output_accuracy: 0.5926 - loss: 26.2037 - regression_output_mae: 25.0149 - val_classification_output_accuracy: 0.4286 - val_loss: 26.1559 - val_regression_output_mae: 25.2357\n",
      "Epoch 9/40\n",
      "\u001b[1m4/4\u001b[0m \u001b[32m━━━━━━━━━━━━━━━━━━━━\u001b[0m\u001b[37m\u001b[0m \u001b[1m1s\u001b[0m 202ms/step - classification_output_accuracy: 0.5957 - loss: 27.6993 - regression_output_mae: 25.8835 - val_classification_output_accuracy: 0.4286 - val_loss: 25.7190 - val_regression_output_mae: 24.7274\n",
      "Epoch 10/40\n",
      "\u001b[1m4/4\u001b[0m \u001b[32m━━━━━━━━━━━━━━━━━━━━\u001b[0m\u001b[37m\u001b[0m \u001b[1m1s\u001b[0m 205ms/step - classification_output_accuracy: 0.5973 - loss: 26.1259 - regression_output_mae: 24.5777 - val_classification_output_accuracy: 0.3929 - val_loss: 25.8616 - val_regression_output_mae: 25.0605\n",
      "Epoch 11/40\n",
      "\u001b[1m4/4\u001b[0m \u001b[32m━━━━━━━━━━━━━━━━━━━━\u001b[0m\u001b[37m\u001b[0m \u001b[1m1s\u001b[0m 200ms/step - classification_output_accuracy: 0.4669 - loss: 28.1056 - regression_output_mae: 26.0423 - val_classification_output_accuracy: 0.3929 - val_loss: 25.2133 - val_regression_output_mae: 24.4379\n",
      "Epoch 12/40\n",
      "\u001b[1m4/4\u001b[0m \u001b[32m━━━━━━━━━━━━━━━━━━━━\u001b[0m\u001b[37m\u001b[0m \u001b[1m1s\u001b[0m 205ms/step - classification_output_accuracy: 0.5937 - loss: 24.5873 - regression_output_mae: 23.1903 - val_classification_output_accuracy: 0.4286 - val_loss: 24.9510 - val_regression_output_mae: 24.2061\n",
      "Epoch 13/40\n",
      "\u001b[1m4/4\u001b[0m \u001b[32m━━━━━━━━━━━━━━━━━━━━\u001b[0m\u001b[37m\u001b[0m \u001b[1m1s\u001b[0m 205ms/step - classification_output_accuracy: 0.5977 - loss: 25.8966 - regression_output_mae: 24.7516 - val_classification_output_accuracy: 0.6071 - val_loss: 25.3298 - val_regression_output_mae: 24.6696\n",
      "Epoch 14/40\n",
      "\u001b[1m4/4\u001b[0m \u001b[32m━━━━━━━━━━━━━━━━━━━━\u001b[0m\u001b[37m\u001b[0m \u001b[1m1s\u001b[0m 214ms/step - classification_output_accuracy: 0.5161 - loss: 27.3412 - regression_output_mae: 25.9817 - val_classification_output_accuracy: 0.5357 - val_loss: 24.4748 - val_regression_output_mae: 23.7094\n",
      "Epoch 15/40\n",
      "\u001b[1m4/4\u001b[0m \u001b[32m━━━━━━━━━━━━━━━━━━━━\u001b[0m\u001b[37m\u001b[0m \u001b[1m1s\u001b[0m 198ms/step - classification_output_accuracy: 0.5806 - loss: 24.8336 - regression_output_mae: 23.4534 - val_classification_output_accuracy: 0.7857 - val_loss: 23.9140 - val_regression_output_mae: 23.2951\n",
      "Epoch 16/40\n",
      "\u001b[1m4/4\u001b[0m \u001b[32m━━━━━━━━━━━━━━━━━━━━\u001b[0m\u001b[37m\u001b[0m \u001b[1m1s\u001b[0m 327ms/step - classification_output_accuracy: 0.5532 - loss: 24.3199 - regression_output_mae: 22.4490 - val_classification_output_accuracy: 0.5357 - val_loss: 25.5957 - val_regression_output_mae: 24.8364\n",
      "Epoch 17/40\n",
      "\u001b[1m4/4\u001b[0m \u001b[32m━━━━━━━━━━━━━━━━━━━━\u001b[0m\u001b[37m\u001b[0m \u001b[1m1s\u001b[0m 210ms/step - classification_output_accuracy: 0.5706 - loss: 26.1675 - regression_output_mae: 25.1186 - val_classification_output_accuracy: 0.5357 - val_loss: 24.3525 - val_regression_output_mae: 23.5196\n",
      "Epoch 18/40\n",
      "\u001b[1m4/4\u001b[0m \u001b[32m━━━━━━━━━━━━━━━━━━━━\u001b[0m\u001b[37m\u001b[0m \u001b[1m1s\u001b[0m 209ms/step - classification_output_accuracy: 0.6506 - loss: 22.9641 - regression_output_mae: 21.8805 - val_classification_output_accuracy: 0.7500 - val_loss: 24.3654 - val_regression_output_mae: 23.7053\n",
      "Epoch 19/40\n",
      "\u001b[1m4/4\u001b[0m \u001b[32m━━━━━━━━━━━━━━━━━━━━\u001b[0m\u001b[37m\u001b[0m \u001b[1m1s\u001b[0m 309ms/step - classification_output_accuracy: 0.6707 - loss: 21.5221 - regression_output_mae: 20.6185 - val_classification_output_accuracy: 0.7857 - val_loss: 24.4151 - val_regression_output_mae: 23.7114\n",
      "Epoch 20/40\n",
      "\u001b[1m4/4\u001b[0m \u001b[32m━━━━━━━━━━━━━━━━━━━━\u001b[0m\u001b[37m\u001b[0m \u001b[1m2s\u001b[0m 493ms/step - classification_output_accuracy: 0.6946 - loss: 23.8058 - regression_output_mae: 22.8510 - val_classification_output_accuracy: 0.6071 - val_loss: 23.2781 - val_regression_output_mae: 22.3510\n",
      "Epoch 21/40\n",
      "\u001b[1m4/4\u001b[0m \u001b[32m━━━━━━━━━━━━━━━━━━━━\u001b[0m\u001b[37m\u001b[0m \u001b[1m4s\u001b[0m 975ms/step - classification_output_accuracy: 0.6196 - loss: 21.6931 - regression_output_mae: 20.4449 - val_classification_output_accuracy: 0.7500 - val_loss: 22.8667 - val_regression_output_mae: 22.1320\n",
      "Epoch 22/40\n",
      "\u001b[1m4/4\u001b[0m \u001b[32m━━━━━━━━━━━━━━━━━━━━\u001b[0m\u001b[37m\u001b[0m \u001b[1m1s\u001b[0m 299ms/step - classification_output_accuracy: 0.7300 - loss: 21.5724 - regression_output_mae: 20.6030 - val_classification_output_accuracy: 0.7500 - val_loss: 22.7829 - val_regression_output_mae: 22.0281\n",
      "Epoch 23/40\n",
      "\u001b[1m4/4\u001b[0m \u001b[32m━━━━━━━━━━━━━━━━━━━━\u001b[0m\u001b[37m\u001b[0m \u001b[1m1s\u001b[0m 304ms/step - classification_output_accuracy: 0.7465 - loss: 20.6720 - regression_output_mae: 19.6484 - val_classification_output_accuracy: 0.6071 - val_loss: 23.8607 - val_regression_output_mae: 22.8153\n",
      "Epoch 24/40\n",
      "\u001b[1m4/4\u001b[0m \u001b[32m━━━━━━━━━━━━━━━━━━━━\u001b[0m\u001b[37m\u001b[0m \u001b[1m1s\u001b[0m 295ms/step - classification_output_accuracy: 0.7165 - loss: 21.3535 - regression_output_mae: 20.1716 - val_classification_output_accuracy: 0.6071 - val_loss: 26.3093 - val_regression_output_mae: 25.2745\n",
      "Epoch 25/40\n",
      "\u001b[1m4/4\u001b[0m \u001b[32m━━━━━━━━━━━━━━━━━━━━\u001b[0m\u001b[37m\u001b[0m \u001b[1m1s\u001b[0m 304ms/step - classification_output_accuracy: 0.6998 - loss: 20.4726 - regression_output_mae: 19.2465 - val_classification_output_accuracy: 0.7500 - val_loss: 25.8033 - val_regression_output_mae: 25.1106\n",
      "Epoch 26/40\n",
      "\u001b[1m4/4\u001b[0m \u001b[32m━━━━━━━━━━━━━━━━━━━━\u001b[0m\u001b[37m\u001b[0m \u001b[1m1s\u001b[0m 296ms/step - classification_output_accuracy: 0.7715 - loss: 21.7730 - regression_output_mae: 21.1761 - val_classification_output_accuracy: 0.7857 - val_loss: 22.2851 - val_regression_output_mae: 21.5748\n",
      "Epoch 27/40\n",
      "\u001b[1m4/4\u001b[0m \u001b[32m━━━━━━━━━━━━━━━━━━━━\u001b[0m\u001b[37m\u001b[0m \u001b[1m1s\u001b[0m 328ms/step - classification_output_accuracy: 0.6931 - loss: 20.4964 - regression_output_mae: 19.6405 - val_classification_output_accuracy: 0.7143 - val_loss: 21.6388 - val_regression_output_mae: 20.7189\n",
      "Epoch 28/40\n",
      "\u001b[1m4/4\u001b[0m \u001b[32m━━━━━━━━━━━━━━━━━━━━\u001b[0m\u001b[37m\u001b[0m \u001b[1m1s\u001b[0m 291ms/step - classification_output_accuracy: 0.7486 - loss: 17.7987 - regression_output_mae: 17.0184 - val_classification_output_accuracy: 0.7143 - val_loss: 21.6571 - val_regression_output_mae: 20.8903\n",
      "Epoch 29/40\n",
      "\u001b[1m4/4\u001b[0m \u001b[32m━━━━━━━━━━━━━━━━━━━━\u001b[0m\u001b[37m\u001b[0m \u001b[1m1s\u001b[0m 304ms/step - classification_output_accuracy: 0.7231 - loss: 17.8352 - regression_output_mae: 16.9192 - val_classification_output_accuracy: 0.7143 - val_loss: 21.5692 - val_regression_output_mae: 20.7423\n",
      "Epoch 30/40\n",
      "\u001b[1m4/4\u001b[0m \u001b[32m━━━━━━━━━━━━━━━━━━━━\u001b[0m\u001b[37m\u001b[0m \u001b[1m1s\u001b[0m 298ms/step - classification_output_accuracy: 0.7657 - loss: 18.1100 - regression_output_mae: 17.5371 - val_classification_output_accuracy: 0.7500 - val_loss: 20.8924 - val_regression_output_mae: 19.9624\n",
      "Epoch 31/40\n",
      "\u001b[1m4/4\u001b[0m \u001b[32m━━━━━━━━━━━━━━━━━━━━\u001b[0m\u001b[37m\u001b[0m \u001b[1m1s\u001b[0m 299ms/step - classification_output_accuracy: 0.7236 - loss: 16.6029 - regression_output_mae: 15.6571 - val_classification_output_accuracy: 0.7143 - val_loss: 21.4482 - val_regression_output_mae: 20.4467\n",
      "Epoch 32/40\n",
      "\u001b[1m4/4\u001b[0m \u001b[32m━━━━━━━━━━━━━━━━━━━━\u001b[0m\u001b[37m\u001b[0m \u001b[1m1s\u001b[0m 289ms/step - classification_output_accuracy: 0.7646 - loss: 14.6192 - regression_output_mae: 13.5915 - val_classification_output_accuracy: 0.6786 - val_loss: 21.5751 - val_regression_output_mae: 20.4784\n",
      "Epoch 33/40\n",
      "\u001b[1m4/4\u001b[0m \u001b[32m━━━━━━━━━━━━━━━━━━━━\u001b[0m\u001b[37m\u001b[0m \u001b[1m1s\u001b[0m 256ms/step - classification_output_accuracy: 0.7782 - loss: 15.1215 - regression_output_mae: 13.8064 - val_classification_output_accuracy: 0.6429 - val_loss: 21.8469 - val_regression_output_mae: 20.2901\n",
      "Epoch 34/40\n",
      "\u001b[1m4/4\u001b[0m \u001b[32m━━━━━━━━━━━━━━━━━━━━\u001b[0m\u001b[37m\u001b[0m \u001b[1m1s\u001b[0m 238ms/step - classification_output_accuracy: 0.6961 - loss: 16.8911 - regression_output_mae: 15.4030 - val_classification_output_accuracy: 0.6071 - val_loss: 24.0382 - val_regression_output_mae: 23.0522\n",
      "Epoch 35/40\n",
      "\u001b[1m4/4\u001b[0m \u001b[32m━━━━━━━━━━━━━━━━━━━━\u001b[0m\u001b[37m\u001b[0m \u001b[1m1s\u001b[0m 278ms/step - classification_output_accuracy: 0.6724 - loss: 16.2342 - regression_output_mae: 14.9840 - val_classification_output_accuracy: 0.6786 - val_loss: 24.4074 - val_regression_output_mae: 23.5155\n",
      "Epoch 36/40\n",
      "\u001b[1m4/4\u001b[0m \u001b[32m━━━━━━━━━━━━━━━━━━━━\u001b[0m\u001b[37m\u001b[0m \u001b[1m1s\u001b[0m 318ms/step - classification_output_accuracy: 0.8476 - loss: 19.0501 - regression_output_mae: 18.6168 - val_classification_output_accuracy: 0.6786 - val_loss: 24.7694 - val_regression_output_mae: 23.7880\n",
      "Epoch 37/40\n",
      "\u001b[1m4/4\u001b[0m \u001b[32m━━━━━━━━━━━━━━━━━━━━\u001b[0m\u001b[37m\u001b[0m \u001b[1m1s\u001b[0m 301ms/step - classification_output_accuracy: 0.7802 - loss: 15.3680 - regression_output_mae: 14.3277 - val_classification_output_accuracy: 0.6786 - val_loss: 22.4768 - val_regression_output_mae: 21.4377\n",
      "Epoch 38/40\n",
      "\u001b[1m4/4\u001b[0m \u001b[32m━━━━━━━━━━━━━━━━━━━━\u001b[0m\u001b[37m\u001b[0m \u001b[1m1s\u001b[0m 222ms/step - classification_output_accuracy: 0.7599 - loss: 16.0008 - regression_output_mae: 15.0741 - val_classification_output_accuracy: 0.6429 - val_loss: 22.7940 - val_regression_output_mae: 21.6314\n",
      "Epoch 39/40\n",
      "\u001b[1m4/4\u001b[0m \u001b[32m━━━━━━━━━━━━━━━━━━━━\u001b[0m\u001b[37m\u001b[0m \u001b[1m1s\u001b[0m 313ms/step - classification_output_accuracy: 0.7984 - loss: 12.4732 - regression_output_mae: 11.8970 - val_classification_output_accuracy: 0.6786 - val_loss: 22.1050 - val_regression_output_mae: 20.9108\n",
      "Epoch 40/40\n",
      "\u001b[1m4/4\u001b[0m \u001b[32m━━━━━━━━━━━━━━━━━━━━\u001b[0m\u001b[37m\u001b[0m \u001b[1m1s\u001b[0m 320ms/step - classification_output_accuracy: 0.7667 - loss: 11.8087 - regression_output_mae: 11.1289 - val_classification_output_accuracy: 0.7143 - val_loss: 22.7552 - val_regression_output_mae: 21.6584\n"
     ]
    }
   ],
   "source": [
    "# Train the model\n",
    "history = model.fit(x_train, {'classification_output': y_class_train, 'regression_output': y_reg_train}, \n",
    "                    epochs=40, batch_size=32, validation_split=0.2)"
   ]
  },
  {
   "cell_type": "code",
   "execution_count": 11,
   "metadata": {},
   "outputs": [
    {
     "data": {
      "text/plain": [
       "<keras.src.callbacks.history.History at 0x2eabab9bfd0>"
      ]
     },
     "execution_count": 11,
     "metadata": {},
     "output_type": "execute_result"
    }
   ],
   "source": [
    "history"
   ]
  },
  {
   "cell_type": "code",
   "execution_count": null,
   "metadata": {},
   "outputs": [],
   "source": []
  }
 ],
 "metadata": {
  "kernelspec": {
   "display_name": "aws",
   "language": "python",
   "name": "python3"
  },
  "language_info": {
   "codemirror_mode": {
    "name": "ipython",
    "version": 3
   },
   "file_extension": ".py",
   "mimetype": "text/x-python",
   "name": "python",
   "nbconvert_exporter": "python",
   "pygments_lexer": "ipython3",
   "version": "3.10.13"
  }
 },
 "nbformat": 4,
 "nbformat_minor": 2
}
