{
 "cells": [
  {
   "cell_type": "code",
   "execution_count": 3,
   "metadata": {},
   "outputs": [],
   "source": [
    "import numpy as np\n",
    "import pandas as pd\n",
    "from sklearn.model_selection import train_test_split\n",
    "from sklearn.metrics import classification_report\n",
    "\n",
    "from IPython.display import SVG\n",
    "\n",
    "from sklearn.metrics import r2_score\n",
    "\n",
    "\n",
    "#from keras.utils.vis_utils import model_to_dot\n",
    "#from keras.utils import plot_model\n",
    "import seaborn as sns\n",
    "import matplotlib.pyplot as plt\n",
    "%matplotlib inline\n",
    "import plotly.graph_objs as go\n",
    "import plotly.figure_factory as ff\n",
    "from plotly import tools\n",
    "from plotly.offline import download_plotlyjs, init_notebook_mode, plot, iplot\n",
    "\n",
    "\n",
    "from IPython.display import Image\n",
    "import glob\n",
    "import cv2\n",
    "import random\n",
    "\n",
    "\n",
    "from keras.models import Sequential\n",
    "from keras.layers import Conv2D,MaxPooling2D,Dense,Flatten,Dropout\n",
    "from keras.optimizers import Adam\n",
    "import tensorflow\n",
    "\n",
    "import tensorflow as tf\n",
    "from tensorflow.keras.models import Model\n",
    "from tensorflow.keras.layers import Input, Conv2D, MaxPooling2D, Flatten, Dense, Dropout\n",
    "\n",
    "input_shape = (128, 128, 3)  # Example input shape for an RGB image\n",
    "inputs = Input(shape=input_shape)\n",
    "\n",
    "\n",
    "df = pd.read_csv('df.csv', index_col= 0)"
   ]
  },
  {
   "cell_type": "code",
   "execution_count": 6,
   "metadata": {},
   "outputs": [],
   "source": [
    "image_rows = 128\n",
    "image_cols = 128\n",
    "batch_size = 4096\n",
    "\n",
    "X   = df.drop(['Age', 'Gender'], axis = 1)\n",
    "y = df['Gender']\n",
    "X_train, X_test, y_class_train, y_class_test = train_test_split(\n",
    "    X, y, test_size=0.25, random_state=42)\n",
    "\n",
    "y = df['Age']\n",
    "X_train, X_test, y_reg_train, y_reg_test = train_test_split(\n",
    "    X, y, test_size=0.25, random_state=42)\n",
    "\n",
    "\n",
    "\n",
    "image_shape = (image_rows,image_cols,3)\n",
    "train_data = np.array(X_train, dtype = 'float32')\n",
    "test_data = np.array(X_test, dtype='float32')\n",
    "\n",
    "train_data = train_data.reshape(train_data.shape[0],*image_shape)\n",
    "test_data = test_data.reshape(test_data.shape[0],*image_shape)\n",
    "\n",
    "x_train = train_data/255\n",
    "x_test= test_data/255"
   ]
  },
  {
   "cell_type": "code",
   "execution_count": 7,
   "metadata": {},
   "outputs": [],
   "source": [
    "# Shared convolutional base\n",
    "x = Conv2D(32, (3, 3), activation='relu')(inputs)\n",
    "x = MaxPooling2D((2, 2))(x)\n",
    "x = Conv2D(64, (3, 3), activation='relu')(x)\n",
    "x = MaxPooling2D((2, 2))(x)\n",
    "x = Conv2D(128, (3, 3), activation='relu')(x)\n",
    "x = MaxPooling2D((2, 2))(x)\n",
    "x = Flatten()(x)\n",
    "x = Dense(128, activation='relu')(x)\n",
    "x = Dropout(0.5)(x)"
   ]
  },
  {
   "cell_type": "code",
   "execution_count": 8,
   "metadata": {},
   "outputs": [],
   "source": [
    "# Classification & regression output\n",
    "classification_output = Dense(1, activation='sigmoid', name='classification_output')(x)\n",
    "regression_output = Dense(1, name='regression_output')(x)\n",
    "\n",
    "model = Model(inputs=inputs, outputs=[classification_output, regression_output])"
   ]
  },
  {
   "cell_type": "code",
   "execution_count": 9,
   "metadata": {},
   "outputs": [],
   "source": [
    "model.compile(optimizer='adam', \n",
    "              loss={'classification_output': 'binary_crossentropy', 'regression_output': 'mae'},\n",
    "              metrics={'classification_output': 'accuracy', 'regression_output': 'mae'})"
   ]
  },
  {
   "cell_type": "code",
   "execution_count": null,
   "metadata": {},
   "outputs": [],
   "source": [
    "# Train the model\n",
    "history = model.fit(x_train, {'classification_output': y_class_train, 'regression_output': y_reg_train}, \n",
    "                    epochs=40, batch_size=32, validation_split=0.2)"
   ]
  }
 ],
 "metadata": {
  "kernelspec": {
   "display_name": "aws",
   "language": "python",
   "name": "python3"
  },
  "language_info": {
   "codemirror_mode": {
    "name": "ipython",
    "version": 3
   },
   "file_extension": ".py",
   "mimetype": "text/x-python",
   "name": "python",
   "nbconvert_exporter": "python",
   "pygments_lexer": "ipython3",
   "version": "3.10.13"
  }
 },
 "nbformat": 4,
 "nbformat_minor": 2
}
