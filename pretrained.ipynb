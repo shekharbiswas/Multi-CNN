{
 "cells": [
  {
   "cell_type": "code",
   "execution_count": 2,
   "metadata": {},
   "outputs": [],
   "source": [
    "import numpy as np\n",
    "import pandas as pd\n",
    "from sklearn.model_selection import train_test_split\n",
    "from sklearn.metrics import classification_report\n",
    "\n",
    "from IPython.display import SVG\n",
    "\n",
    "from sklearn.metrics import r2_score\n",
    "\n",
    "\n",
    "#from keras.utils.vis_utils import model_to_dot\n",
    "#from keras.utils import plot_model\n",
    "import seaborn as sns\n",
    "import matplotlib.pyplot as plt\n",
    "%matplotlib inline\n",
    "import plotly.graph_objs as go\n",
    "import plotly.figure_factory as ff\n",
    "from plotly import tools\n",
    "from plotly.offline import download_plotlyjs, init_notebook_mode, plot, iplot\n",
    "\n",
    "\n",
    "from IPython.display import Image\n",
    "import glob\n",
    "import cv2\n",
    "import random\n",
    "\n",
    "\n",
    "from keras.models import Sequential\n",
    "from keras.layers import Conv2D,MaxPooling2D,Dense,Flatten,Dropout\n",
    "from keras.optimizers import Adam\n",
    "import tensorflow\n",
    "\n",
    "import tensorflow as tf\n",
    "from tensorflow.keras.models import Model\n",
    "from tensorflow.keras.layers import Input, Conv2D, MaxPooling2D, Flatten, Dense, Dropout\n",
    "from tensorflow.keras.applications import ResNet50\n",
    "# https://blog.roboflow.com/what-is-resnet-50/\n",
    "\n",
    "input_shape = (128, 128, 3)  # Example input shape for an RGB image\n",
    "inputs = Input(shape=input_shape)\n",
    "\n",
    "\n",
    "df = pd.read_csv('df.csv', index_col= 0)"
   ]
  },
  {
   "cell_type": "code",
   "execution_count": 4,
   "metadata": {},
   "outputs": [],
   "source": [
    "image_rows = 128\n",
    "image_cols = 128\n",
    "batch_size = 4096\n",
    "\n",
    "X   = df.drop(['Age', 'Gender'], axis = 1)\n",
    "y = df['Gender']\n",
    "X_train, X_test, y_class_train, y_class_test = train_test_split(\n",
    "    X, y, test_size=0.25, random_state=42)\n",
    "\n",
    "y = df['Age']\n",
    "X_train, X_test, y_reg_train, y_reg_test = train_test_split(\n",
    "    X, y, test_size=0.25, random_state=42)\n",
    "\n",
    "\n",
    "\n",
    "image_shape = (image_rows,image_cols,3)\n",
    "train_data = np.array(X_train, dtype = 'float32')\n",
    "test_data = np.array(X_test, dtype='float32')\n",
    "\n",
    "train_data = train_data.reshape(train_data.shape[0],*image_shape)\n",
    "test_data = test_data.reshape(test_data.shape[0],*image_shape)\n",
    "\n",
    "x_train = train_data/255\n",
    "x_test= test_data/255"
   ]
  },
  {
   "cell_type": "code",
   "execution_count": 3,
   "metadata": {},
   "outputs": [
    {
     "name": "stdout",
     "output_type": "stream",
     "text": [
      "Downloading data from https://storage.googleapis.com/tensorflow/keras-applications/resnet/resnet50_weights_tf_dim_ordering_tf_kernels_notop.h5\n",
      "\u001b[1m94765736/94765736\u001b[0m \u001b[32m━━━━━━━━━━━━━━━━━━━━\u001b[0m\u001b[37m\u001b[0m \u001b[1m8s\u001b[0m 0us/step\n"
     ]
    }
   ],
   "source": [
    "# Load Pre-trained ResNet50 Model\n",
    "\n",
    "base_model = ResNet50(weights='imagenet', include_top=False, input_shape=(128, 128, 3))\n"
   ]
  },
  {
   "cell_type": "code",
   "execution_count": 5,
   "metadata": {},
   "outputs": [],
   "source": [
    "# Create input layer\n",
    "inputs = Input(shape=(128, 128, 3))\n",
    "\n",
    "# Pass the inputs through the base model\n",
    "x = base_model(inputs, training=False)\n",
    "x = Flatten()(x)\n",
    "\n",
    "# Classification head for gender classification\n",
    "classification_output = Dense(1, activation='sigmoid', name='classification_output')(x)\n",
    "\n",
    "# Regression head for age estimation\n",
    "regression_output = Dense(1, name='regression_output')(x)\n",
    "\n",
    "# Create the multi-output model\n",
    "model = Model(inputs=inputs, outputs=[classification_output, regression_output])"
   ]
  },
  {
   "cell_type": "code",
   "execution_count": 6,
   "metadata": {},
   "outputs": [],
   "source": [
    "# Compile the model with appropriate loss functions and metrics for both classification and regression\n",
    "# mae\n",
    "model.compile(optimizer=Adam(learning_rate=0.0001),\n",
    "              loss={'classification_output': 'binary_crossentropy', 'regression_output': 'mean_squared_error'},\n",
    "              metrics={'classification_output': 'accuracy', 'regression_output': 'mae'})"
   ]
  },
  {
   "cell_type": "code",
   "execution_count": 7,
   "metadata": {},
   "outputs": [
    {
     "name": "stdout",
     "output_type": "stream",
     "text": [
      "Epoch 1/40\n",
      "\u001b[1m4/4\u001b[0m \u001b[32m━━━━━━━━━━━━━━━━━━━━\u001b[0m\u001b[37m\u001b[0m \u001b[1m68s\u001b[0m 5s/step - classification_output_accuracy: 0.4231 - loss: 2919.5828 - regression_output_mae: 47.0463 - val_classification_output_accuracy: 0.5714 - val_loss: 2602.4011 - val_regression_output_mae: 42.3923\n",
      "Epoch 2/40\n",
      "\u001b[1m4/4\u001b[0m \u001b[32m━━━━━━━━━━━━━━━━━━━━\u001b[0m\u001b[37m\u001b[0m \u001b[1m14s\u001b[0m 4s/step - classification_output_accuracy: 0.5531 - loss: 1396.8401 - regression_output_mae: 31.6057 - val_classification_output_accuracy: 0.5714 - val_loss: 2517.4856 - val_regression_output_mae: 41.4971\n",
      "Epoch 3/40\n",
      "\u001b[1m4/4\u001b[0m \u001b[32m━━━━━━━━━━━━━━━━━━━━\u001b[0m\u001b[37m\u001b[0m \u001b[1m14s\u001b[0m 3s/step - classification_output_accuracy: 0.7252 - loss: 445.8445 - regression_output_mae: 16.6287 - val_classification_output_accuracy: 0.4643 - val_loss: 2363.1003 - val_regression_output_mae: 39.8596\n",
      "Epoch 4/40\n",
      "\u001b[1m4/4\u001b[0m \u001b[32m━━━━━━━━━━━━━━━━━━━━\u001b[0m\u001b[37m\u001b[0m \u001b[1m11s\u001b[0m 3s/step - classification_output_accuracy: 0.7261 - loss: 110.5030 - regression_output_mae: 8.1514 - val_classification_output_accuracy: 0.4643 - val_loss: 2131.3569 - val_regression_output_mae: 37.3597\n",
      "Epoch 5/40\n",
      "\u001b[1m4/4\u001b[0m \u001b[32m━━━━━━━━━━━━━━━━━━━━\u001b[0m\u001b[37m\u001b[0m \u001b[1m14s\u001b[0m 4s/step - classification_output_accuracy: 0.8829 - loss: 148.8137 - regression_output_mae: 9.2009 - val_classification_output_accuracy: 0.4643 - val_loss: 1721.9811 - val_regression_output_mae: 32.6006\n",
      "Epoch 6/40\n",
      "\u001b[1m4/4\u001b[0m \u001b[32m━━━━━━━━━━━━━━━━━━━━\u001b[0m\u001b[37m\u001b[0m \u001b[1m14s\u001b[0m 3s/step - classification_output_accuracy: 0.9067 - loss: 101.7005 - regression_output_mae: 7.8248 - val_classification_output_accuracy: 0.4286 - val_loss: 1446.8268 - val_regression_output_mae: 29.6775\n",
      "Epoch 7/40\n",
      "\u001b[1m4/4\u001b[0m \u001b[32m━━━━━━━━━━━━━━━━━━━━\u001b[0m\u001b[37m\u001b[0m \u001b[1m12s\u001b[0m 3s/step - classification_output_accuracy: 0.9249 - loss: 111.0516 - regression_output_mae: 8.5471 - val_classification_output_accuracy: 0.4286 - val_loss: 1230.7511 - val_regression_output_mae: 27.4841\n",
      "Epoch 8/40\n",
      "\u001b[1m4/4\u001b[0m \u001b[32m━━━━━━━━━━━━━━━━━━━━\u001b[0m\u001b[37m\u001b[0m \u001b[1m13s\u001b[0m 3s/step - classification_output_accuracy: 0.9378 - loss: 51.8347 - regression_output_mae: 5.7150 - val_classification_output_accuracy: 0.4286 - val_loss: 1050.6501 - val_regression_output_mae: 25.4706\n",
      "Epoch 9/40\n",
      "\u001b[1m4/4\u001b[0m \u001b[32m━━━━━━━━━━━━━━━━━━━━\u001b[0m\u001b[37m\u001b[0m \u001b[1m12s\u001b[0m 3s/step - classification_output_accuracy: 0.9829 - loss: 55.0410 - regression_output_mae: 5.5071 - val_classification_output_accuracy: 0.4286 - val_loss: 930.4557 - val_regression_output_mae: 24.1670\n",
      "Epoch 10/40\n",
      "\u001b[1m4/4\u001b[0m \u001b[32m━━━━━━━━━━━━━━━━━━━━\u001b[0m\u001b[37m\u001b[0m \u001b[1m13s\u001b[0m 3s/step - classification_output_accuracy: 0.9912 - loss: 34.7201 - regression_output_mae: 4.5486 - val_classification_output_accuracy: 0.4286 - val_loss: 914.5222 - val_regression_output_mae: 23.9632\n",
      "Epoch 11/40\n",
      "\u001b[1m4/4\u001b[0m \u001b[32m━━━━━━━━━━━━━━━━━━━━\u001b[0m\u001b[37m\u001b[0m \u001b[1m13s\u001b[0m 3s/step - classification_output_accuracy: 0.9886 - loss: 34.4885 - regression_output_mae: 4.6788 - val_classification_output_accuracy: 0.4286 - val_loss: 910.7079 - val_regression_output_mae: 23.9030\n",
      "Epoch 12/40\n",
      "\u001b[1m4/4\u001b[0m \u001b[32m━━━━━━━━━━━━━━━━━━━━\u001b[0m\u001b[37m\u001b[0m \u001b[1m13s\u001b[0m 3s/step - classification_output_accuracy: 1.0000 - loss: 52.3580 - regression_output_mae: 5.5072 - val_classification_output_accuracy: 0.4286 - val_loss: 899.4479 - val_regression_output_mae: 23.7638\n",
      "Epoch 13/40\n",
      "\u001b[1m4/4\u001b[0m \u001b[32m━━━━━━━━━━━━━━━━━━━━\u001b[0m\u001b[37m\u001b[0m \u001b[1m12s\u001b[0m 3s/step - classification_output_accuracy: 1.0000 - loss: 20.6205 - regression_output_mae: 3.2463 - val_classification_output_accuracy: 0.4286 - val_loss: 880.9222 - val_regression_output_mae: 23.5635\n",
      "Epoch 14/40\n",
      "\u001b[1m4/4\u001b[0m \u001b[32m━━━━━━━━━━━━━━━━━━━━\u001b[0m\u001b[37m\u001b[0m \u001b[1m12s\u001b[0m 3s/step - classification_output_accuracy: 1.0000 - loss: 27.8486 - regression_output_mae: 3.5553 - val_classification_output_accuracy: 0.4286 - val_loss: 867.3267 - val_regression_output_mae: 23.4579\n",
      "Epoch 15/40\n",
      "\u001b[1m4/4\u001b[0m \u001b[32m━━━━━━━━━━━━━━━━━━━━\u001b[0m\u001b[37m\u001b[0m \u001b[1m12s\u001b[0m 3s/step - classification_output_accuracy: 1.0000 - loss: 29.9968 - regression_output_mae: 4.2829 - val_classification_output_accuracy: 0.4286 - val_loss: 870.8369 - val_regression_output_mae: 23.4939\n",
      "Epoch 16/40\n",
      "\u001b[1m4/4\u001b[0m \u001b[32m━━━━━━━━━━━━━━━━━━━━\u001b[0m\u001b[37m\u001b[0m \u001b[1m13s\u001b[0m 3s/step - classification_output_accuracy: 1.0000 - loss: 21.5506 - regression_output_mae: 3.5646 - val_classification_output_accuracy: 0.4286 - val_loss: 899.9672 - val_regression_output_mae: 23.7881\n",
      "Epoch 17/40\n",
      "\u001b[1m4/4\u001b[0m \u001b[32m━━━━━━━━━━━━━━━━━━━━\u001b[0m\u001b[37m\u001b[0m \u001b[1m14s\u001b[0m 3s/step - classification_output_accuracy: 1.0000 - loss: 30.7398 - regression_output_mae: 4.3345 - val_classification_output_accuracy: 0.4286 - val_loss: 921.6484 - val_regression_output_mae: 24.0818\n",
      "Epoch 18/40\n",
      "\u001b[1m1/4\u001b[0m \u001b[32m━━━━━\u001b[0m\u001b[37m━━━━━━━━━━━━━━━\u001b[0m \u001b[1m11s\u001b[0m 4s/step - classification_output_accuracy: 1.0000 - loss: 14.8256 - regression_output_mae: 2.9298"
     ]
    }
   ],
   "source": [
    "history = model.fit(x_train, \n",
    "                    {'classification_output': y_class_train, 'regression_output': y_reg_train},\n",
    "                    epochs=40, batch_size=32, validation_split=0.2)"
   ]
  },
  {
   "cell_type": "code",
   "execution_count": null,
   "metadata": {},
   "outputs": [],
   "source": [
    "# Create a 2x2 grid for the plots\n",
    "fig, axs = plt.subplots(2, 2, figsize=(14, 10))\n",
    "\n",
    "# Plot the loss of the gender classification over the training and validation set\n",
    "axs[0, 0].plot(history.history['classification_output_loss'], label='Train Classification Loss')\n",
    "axs[0, 0].plot(history.history['val_classification_output_loss'], label='Val Classification Loss')\n",
    "axs[0, 0].set_title('Classification Loss')\n",
    "axs[0, 0].set_xlabel('Epochs')\n",
    "axs[0, 0].set_ylabel('Loss')\n",
    "axs[0, 0].legend()\n",
    "\n",
    "# Plot the accuracy of the gender classification over the training and validation set\n",
    "axs[0, 1].plot(history.history['classification_output_accuracy'], label='Train Classification Accuracy')\n",
    "axs[0, 1].plot(history.history['val_classification_output_accuracy'], label='Val Classification Accuracy')\n",
    "axs[0, 1].set_title('Classification Accuracy')\n",
    "axs[0, 1].set_xlabel('Epochs')\n",
    "axs[0, 1].set_ylabel('Accuracy')\n",
    "axs[0, 1].legend()\n",
    "\n",
    "# Plot the loss of the age estimation over the training and validation set\n",
    "axs[1, 0].plot(history.history['regression_output_loss'], label='Train Regression Loss')\n",
    "axs[1, 0].plot(history.history['val_regression_output_loss'], label='Val Regression Loss')\n",
    "axs[1, 0].set_title('Regression Loss')\n",
    "axs[1, 0].set_xlabel('Epochs')\n",
    "axs[1, 0].set_ylabel('Loss')\n",
    "axs[1, 0].legend()\n",
    "\n",
    "# Plot the MAE of the age estimation over the training and validation set\n",
    "axs[1, 1].plot(history.history['regression_output_mae'], label='Train Regression MAE')\n",
    "axs[1, 1].plot(history.history['val_regression_output_mae'], label='Val Regression MAE')\n",
    "axs[1, 1].set_title('Regression MAE')\n",
    "axs[1, 1].set_xlabel('Epochs')\n",
    "axs[1, 1].set_ylabel('MAE')\n",
    "axs[1, 1].legend()\n",
    "\n",
    "# Adjust layout\n",
    "plt.tight_layout()\n",
    "plt.show()"
   ]
  }
 ],
 "metadata": {
  "kernelspec": {
   "display_name": "aws",
   "language": "python",
   "name": "python3"
  },
  "language_info": {
   "codemirror_mode": {
    "name": "ipython",
    "version": 3
   },
   "file_extension": ".py",
   "mimetype": "text/x-python",
   "name": "python",
   "nbconvert_exporter": "python",
   "pygments_lexer": "ipython3",
   "version": "3.10.13"
  }
 },
 "nbformat": 4,
 "nbformat_minor": 2
}
