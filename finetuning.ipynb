{
 "cells": [
  {
   "cell_type": "code",
   "execution_count": 1,
   "metadata": {},
   "outputs": [],
   "source": [
    "import numpy as np\n",
    "import pandas as pd\n",
    "from sklearn.model_selection import train_test_split\n",
    "from sklearn.metrics import classification_report\n",
    "\n",
    "from IPython.display import SVG\n",
    "\n",
    "from sklearn.metrics import r2_score\n",
    "\n",
    "\n",
    "#from keras.utils.vis_utils import model_to_dot\n",
    "#from keras.utils import plot_model\n",
    "import seaborn as sns\n",
    "import matplotlib.pyplot as plt\n",
    "%matplotlib inline\n",
    "import plotly.graph_objs as go\n",
    "import plotly.figure_factory as ff\n",
    "from plotly import tools\n",
    "from plotly.offline import download_plotlyjs, init_notebook_mode, plot, iplot\n",
    "\n",
    "\n",
    "from IPython.display import Image\n",
    "import glob\n",
    "import cv2\n",
    "import random\n",
    "\n",
    "\n",
    "from keras.models import Sequential\n",
    "from keras.layers import Conv2D,MaxPooling2D,Dense,Flatten,Dropout\n",
    "from keras.optimizers import Adam\n",
    "import tensorflow\n",
    "\n",
    "import tensorflow as tf\n",
    "from tensorflow.keras.models import Model\n",
    "from tensorflow.keras.layers import Input, Conv2D, MaxPooling2D, Flatten, Dense, Dropout\n",
    "from tensorflow.keras.applications import ResNet50\n",
    "# https://blog.roboflow.com/what-is-resnet-50/\n",
    "\n",
    "input_shape = (128, 128, 3)  # Example input shape for an RGB image\n",
    "inputs = Input(shape=input_shape)"
   ]
  },
  {
   "cell_type": "code",
   "execution_count": 3,
   "metadata": {},
   "outputs": [
    {
     "data": {
      "text/plain": [
       "['files\\\\dataframe_0000_0500.csv',\n",
       " 'files\\\\dataframe_0500_1000.csv',\n",
       " 'files\\\\dataframe_1000_1500.csv',\n",
       " 'files\\\\dataframe_1500_2000.csv',\n",
       " 'files\\\\dataframe_2000_2500.csv',\n",
       " 'files\\\\dataframe_2500_3000.csv',\n",
       " 'files\\\\dataframe_3000_3500.csv',\n",
       " 'files\\\\dataframe_3500_4000.csv',\n",
       " 'files\\\\dataframe_4000_4500.csv',\n",
       " 'files\\\\dataframe_4500_5000.csv']"
      ]
     },
     "execution_count": 3,
     "metadata": {},
     "output_type": "execute_result"
    }
   ],
   "source": [
    "\n",
    "files = glob.glob('files/*.csv');\n",
    "files"
   ]
  },
  {
   "cell_type": "code",
   "execution_count": null,
   "metadata": {},
   "outputs": [],
   "source": []
  }
 ],
 "metadata": {
  "kernelspec": {
   "display_name": "aws",
   "language": "python",
   "name": "python3"
  },
  "language_info": {
   "codemirror_mode": {
    "name": "ipython",
    "version": 3
   },
   "file_extension": ".py",
   "mimetype": "text/x-python",
   "name": "python",
   "nbconvert_exporter": "python",
   "pygments_lexer": "ipython3",
   "version": "3.10.13"
  }
 },
 "nbformat": 4,
 "nbformat_minor": 2
}
